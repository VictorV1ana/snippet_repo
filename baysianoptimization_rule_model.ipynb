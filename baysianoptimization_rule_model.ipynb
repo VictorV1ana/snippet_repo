{
  "nbformat": 4,
  "nbformat_minor": 0,
  "metadata": {
    "colab": {
      "provenance": [],
      "toc_visible": true,
      "authorship_tag": "ABX9TyOypjHj2AnxdVYyCtyrHwHO"
    },
    "kernelspec": {
      "name": "python3",
      "display_name": "Python 3"
    },
    "language_info": {
      "name": "python"
    }
  },
  "cells": [
    {
      "cell_type": "code",
      "execution_count": null,
      "metadata": {
        "id": "YOSJuTOlcBU5"
      },
      "outputs": [],
      "source": [
        "from skopt import BayesSearchCV\n",
        "from sklearn.model_selection import StratifiedKFold\n",
        "import numpy as np\n",
        "import matplotlib.pyplot as plt\n",
        "\n",
        "class BayesianOptimization:\n",
        "    def __init__(self, X, y):\n",
        "        self.X = X\n",
        "        self.y = y\n",
        "\n",
        "    def custom_method(self, param1, param2):\n",
        "        qtd_total_movimentada = self.X[:, 0]\n",
        "        ratio = self.X[:, 1]\n",
        "\n",
        "        result = np.zeros(len(self.X), dtype=int)\n",
        "        result[qtd_total_movimentada >= param1] += 1\n",
        "        result[ratio >= param2] += 1\n",
        "\n",
        "        return result\n",
        "\n",
        "    def custom_metric(self, y_true, y_pred):\n",
        "        tp = np.sum((y_true == 1) & (y_pred == 1))\n",
        "        fp = np.sum((y_true == 0) & (y_pred == 1))\n",
        "        return tp / (tp + fp)\n",
        "\n",
        "    def objective_function(self, params):\n",
        "        params['param1'] = int(params['param1'])\n",
        "        params['param2'] = int(params['param2'])\n",
        "\n",
        "        y_pred = self.custom_method(params['param1'], params['param2'])\n",
        "        score = self.custom_metric(self.y, y_pred)\n",
        "\n",
        "        return score\n",
        "\n",
        "    def optimize_parameters(self):\n",
        "        param_space = {'param1': (1, 10), 'param2': (0, 1)}\n",
        "\n",
        "        opt = BayesSearchCV(None, param_space, n_iter=50, n_jobs=-1, scoring=self.custom_metric, cv=StratifiedKFold(n_splits=5, shuffle=True, random_state=42))\n",
        "        opt.fit(self.X, self.y)\n",
        "\n",
        "        return opt\n",
        "\n",
        "    def visualize_results(self, opt):\n",
        "        results = opt.cv_results_\n",
        "        plt.scatter(results['param_param1'], results['param_param2'], c=results['mean_test_score'], cmap='viridis', s=50)\n",
        "        plt.colorbar(label='Mean of the custom metric')\n",
        "        plt.xlabel('param1')\n",
        "        plt.ylabel('param2')\n",
        "        plt.title('Bayesian Optimization - Top 5 combinations')\n",
        "        plt.show()\n",
        "\n",
        "# Example usage:\n",
        "X_train = np.array([[10, 0.5], [15, 0.8], [5, 0.3]])\n",
        "y_train = np.array([1, 0, 1])\n",
        "\n",
        "optimizer = BayesianOptimization(X_train, y_train)\n",
        "optimal_params = optimizer.optimize_parameters()\n",
        "\n",
        "print(\"Top 5 combinations:\")\n",
        "for i, params in enumerate(optimal_params.cv_results_['params']):\n",
        "    if i >= 5:\n",
        "        break\n",
        "    print(f\"Combination {i+1}: {params}\")\n",
        "\n",
        "optimizer.visualize_results(optimal_params)"
      ]
    }
  ]
}